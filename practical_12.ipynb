{
 "cells": [
  {
   "cell_type": "code",
   "execution_count": 1,
   "id": "99cff565-7422-4e76-9a6b-7721fc399c6e",
   "metadata": {},
   "outputs": [],
   "source": [
    "import pandas as od\n",
    "import numpy as np\n",
    "import matplotlib.pyplot as plt"
   ]
  },
  {
   "cell_type": "code",
   "execution_count": 3,
   "id": "d01457f4-3e77-4d84-80e1-dac48408ee42",
   "metadata": {},
   "outputs": [],
   "source": [
    "X = np.array([1.,2.,3.,4.,5.])\n",
    "y = np.array([0.,0.,0.,1.,1.])\n"
   ]
  },
  {
   "cell_type": "code",
   "execution_count": 5,
   "id": "3bf35c0a-9d75-4367-88ad-04289f71ab1f",
   "metadata": {},
   "outputs": [],
   "source": [
    "m = len(y)"
   ]
  },
  {
   "cell_type": "code",
   "execution_count": 7,
   "id": "32577261-c5b5-4046-92d3-267c3b1552e4",
   "metadata": {},
   "outputs": [],
   "source": [
    "def sigmoid(z):\n",
    "    return 1.0/(1.0 + np.exp(-z))"
   ]
  },
  {
   "cell_type": "code",
   "execution_count": 9,
   "id": "3953e76e-c532-445c-85e6-f6f11a227bc3",
   "metadata": {},
   "outputs": [],
   "source": [
    "b0 = 0.0\n",
    "b1 = 0.0\n",
    "alpha = 0.1"
   ]
  },
  {
   "cell_type": "code",
   "execution_count": 13,
   "id": "a3b905ad-6d06-4b79-adb2-8a5689deb2c0",
   "metadata": {},
   "outputs": [],
   "source": [
    "z = b0 + b1*X\n",
    "h = sigmoid(z)\n",
    "eps = 1e-15"
   ]
  },
  {
   "cell_type": "code",
   "execution_count": 15,
   "id": "35a2d335-5aec-44e6-87e2-6346f8d272fd",
   "metadata": {},
   "outputs": [
    {
     "name": "stdout",
     "output_type": "stream",
     "text": [
      "Intial h: [0.5 0.5 0.5 0.5 0.5]\n"
     ]
    }
   ],
   "source": [
    "intial_cost = - (1.0/ m) * np.sum(y * np.log(h + eps) + (1-y) * np.log(1-h+eps))\n",
    "print(\"Intial h:\",h)"
   ]
  },
  {
   "cell_type": "code",
   "execution_count": 17,
   "id": "b8700919-ab07-4fe4-acf9-1547f423723e",
   "metadata": {},
   "outputs": [],
   "source": [
    "h_minus_y = h - y"
   ]
  },
  {
   "cell_type": "code",
   "execution_count": 23,
   "id": "678501b8-6dac-413a-9b01-d7dd07a58814",
   "metadata": {},
   "outputs": [
    {
     "name": "stdout",
     "output_type": "stream",
     "text": [
      "grad_b0 =  0.1\n",
      "grad_b1 =  -0.3\n"
     ]
    }
   ],
   "source": [
    "h_minius_y = h-y\n",
    "grad_b0 = np.mean(h_minius_y)\n",
    "grad_b1 = np.mean(h_minus_y * X)\n",
    "print(\"grad_b0 = \",grad_b0)\n",
    "print(\"grad_b1 = \",grad_b1)"
   ]
  },
  {
   "cell_type": "code",
   "execution_count": 25,
   "id": "9e4a6e1e-84da-4234-a1f8-1e6df6fe1f16",
   "metadata": {},
   "outputs": [],
   "source": [
    "b0_new = b0 - alpha * grad_b0\n",
    "b1_new = b1 - alpha * grad_b1"
   ]
  },
  {
   "cell_type": "code",
   "execution_count": 27,
   "id": "8bdc699b-4f85-42c9-947f-cab3dcb57d07",
   "metadata": {},
   "outputs": [
    {
     "name": "stdout",
     "output_type": "stream",
     "text": [
      "After updating the gradients new values are :  -0.010000000000000002 0.03\n"
     ]
    }
   ],
   "source": [
    "print(\"After updating the gradients new values are : \",b0_new,b1_new) "
   ]
  },
  {
   "cell_type": "code",
   "execution_count": 29,
   "id": "0afbe8a6-12bd-4763-a82d-b6cba9b42f7b",
   "metadata": {},
   "outputs": [],
   "source": [
    "b0,b1 = 0.0,0.0\n",
    "n_iter = 2000"
   ]
  },
  {
   "cell_type": "code",
   "execution_count": 31,
   "id": "4bb7e4c7-3d28-4b1c-8730-873075391751",
   "metadata": {},
   "outputs": [],
   "source": [
    "history = []"
   ]
  },
  {
   "cell_type": "code",
   "execution_count": 49,
   "id": "781778d2-aa34-4afb-a665-f3c2710771af",
   "metadata": {},
   "outputs": [],
   "source": [
    "for i in range(n_iter):\n",
    "    z = b0 + b1*X\n",
    "    h = sigmoid(z)\n",
    "    grad_b0 = np.mean(h-y)\n",
    "    grad_b1 = np.mean((h-y)*X)\n",
    "    cost = -(1/m)*np.sum(y * np.log(h+eps) + (1-y) * np.log(1-h + eps))\n",
    "    history.append((i,b0,b1,cost))\n",
    "    b0 -= alpha*grad_b0\n",
    "    b1 -= alpha*grad_b1\n"
   ]
  },
  {
   "cell_type": "code",
   "execution_count": 51,
   "id": "093a9662-4b4a-418d-8bf8-f2298bbee70c",
   "metadata": {},
   "outputs": [
    {
     "name": "stdout",
     "output_type": "stream",
     "text": [
      "\n",
      " Final parameters after 2000 iterations:\n",
      "b0 =  -8.164134755306687\n",
      "b1 =  2.3903308792780638\n",
      "Decision boundary x =  3.415483114108641\n",
      "Final cost J =  0.11902248147120818\n"
     ]
    }
   ],
   "source": [
    "print(\"\\n Final parameters after {} iterations:\".format(n_iter))\n",
    "print(\"b0 = \",b0)\n",
    "print(\"b1 = \",b1)\n",
    "decision_boundary = -b0/b1\n",
    "print(\"Decision boundary x = \",decision_boundary)\n",
    "print(\"Final cost J = \",history[-1][3])"
   ]
  },
  {
   "cell_type": "code",
   "execution_count": 53,
   "id": "1d884795-1c90-4483-a3a8-b129871d3e39",
   "metadata": {},
   "outputs": [],
   "source": [
    "X_plot = np.linspace(0,6,200)\n",
    "y_plot = sigmoid(b0 + b1 * X_plot)"
   ]
  },
  {
   "cell_type": "code",
   "execution_count": 55,
   "id": "af3eebcd-4f78-4d16-a358-502a9575b344",
   "metadata": {},
   "outputs": [
    {
     "data": {
      "text/plain": [
       "<matplotlib.lines.Line2D at 0x255b98b2210>"
      ]
     },
     "execution_count": 55,
     "metadata": {},
     "output_type": "execute_result"
    },
    {
     "data": {
      "image/png": "[encoded data removed]",
      "text/plain": [
       "<Figure size 800x500 with 1 Axes>"
      ]
     },
     "metadata": {},
     "output_type": "display_data"
    }
   ],
   "source": [
    "plt.figure(figsize=(8,5))\n",
    "plt.scatter(X,y)\n",
    "plt.plot(X_plot,y_plot)\n",
    "plt.axhline(0.5,linestyle='--')"
   ]
  },
  {
   "cell_type": "code",
   "execution_count": null,
   "id": "8ba7e147-bc43-4d7f-80cc-7d0604c8d83b",
   "metadata": {},
   "outputs": [],
   "source": []
  }
 ],
 "metadata": {
  "kernelspec": {
   "display_name": "Python [conda env:base] *",
   "language": "python",
   "name": "conda-base-py"
  },
  "language_info": {
   "codemirror_mode": {
    "name": "ipython",
    "version": 3
   },
   "file_extension": ".py",
   "mimetype": "text/x-python",
   "name": "python",
   "nbconvert_exporter": "python",
   "pygments_lexer": "ipython3",
   "version": "3.11.7"
  }
 },
 "nbformat": 4,
 "nbformat_minor": 5
}
